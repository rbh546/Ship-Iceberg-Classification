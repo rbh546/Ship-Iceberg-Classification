{
 "cells": [
  {
   "cell_type": "markdown",
   "metadata": {},
   "source": [
    "### Ship-iceberg clsiification from satellite radar images\n",
    "\n",
    "A simple convolutional neural network is used to classify ship/iceberg from radar satellite images. The network is found to produce an accuracy of 87%. The model was developed using the previous version of tensorflow."
   ]
  },
  {
   "cell_type": "code",
   "execution_count": 15,
   "metadata": {},
   "outputs": [],
   "source": [
    "import math\n",
    "import json\n",
    "import numpy as np\n",
    "import h5py\n",
    "import matplotlib.pyplot as plt\n",
    "import scipy\n",
    "from PIL import Image\n",
    "from scipy import ndimage\n",
    "from scipy import io\n",
    "import tensorflow as tf\n",
    "from tensorflow.python.framework import ops\n",
    "from cnn_utils import *\n",
    "from tqdm import tqdm \n",
    "\n",
    "%matplotlib inline"
   ]
  },
  {
   "cell_type": "markdown",
   "metadata": {},
   "source": [
    "The original data was converted to NumPy array first. "
   ]
  },
  {
   "cell_type": "code",
   "execution_count": null,
   "metadata": {},
   "outputs": [],
   "source": [
    "train_data = np.load('train_data.npy')\n",
    "test_data=np.load('test_data.npy')\n",
    "num=155\n",
    "print(train_data.shape) #check"
   ]
  },
  {
   "cell_type": "markdown",
   "metadata": {},
   "source": [
    "All of the images are greyscale; however,each image has values from 2 channels (band_1 and band_2). Some images contain the incident angle of the satellite, which is passed as a separate parameter forthe dataset"
   ]
  },
  {
   "cell_type": "code",
   "execution_count": null,
   "metadata": {},
   "outputs": [],
   "source": [
    "\n",
    "IMG_SIZE=75\n",
    "X_train_orig=np.empty([len(train_data),IMG_SIZE,IMG_SIZE,2])\n",
    "X_train_orig_lin=np.empty([len(train_data),IMG_SIZE,IMG_SIZE,2])\n",
    "Y_train_orig=np.empty([len(train_data),1])\n",
    "X_test_orig=np.empty([len(test_data),IMG_SIZE,IMG_SIZE,2])\n",
    "\n",
    "\n",
    "for i in range(len(train_data)):\n",
    "    X_train_orig[i,:,:,0]=np.asarray(train_data[i]['band_1']).reshape(IMG_SIZE,IMG_SIZE)\n",
    "    X_train_orig[i,:,:,1]=np.asarray(train_data[i]['band_2']).reshape(IMG_SIZE,IMG_SIZE)\n",
    "    Y_train_orig[i,0]=np.asarray(train_data[i]['is_iceberg']).reshape(1,1)\n",
    "    X_train_orig_lin[i,:,:,0]=np.power(10,X_train_orig[i,:,:,0]/10)\n",
    "    X_train_orig_lin[i,:,:,1]=np.power(10,X_train_orig[i,:,:,1]/10)\n",
    "    if train_data[i]['inc_angle']!='na':\n",
    "        if np.asarray(train_data[i]['inc_angle'])<30:\n",
    "            mean=np.mean(X_train_orig_lin[i,:,:,1])\n",
    "            std_dev=np.std(X_train_orig_lin[i,:,:,1])\n",
    "            threshold=mean+0.8*std_dev\n",
    "            ind_mat=X_train_orig_lin[i,:,:,1]>threshold\n",
    "        else:\n",
    "            mean=np.mean(X_train_orig_lin[i,:,:,0])\n",
    "            std_dev=np.std(X_train_orig_lin[i,:,:,0])\n",
    "            threshold=mean+0.8*std_dev\n",
    "            ind_mat=X_train_orig_lin[i,:,:,0]>threshold\n",
    "    else:\n",
    "        mean=np.mean(X_train_orig_lin[i,:,:,0])\n",
    "        std_dev=np.std(X_train_orig_lin[i,:,:,0])\n",
    "        threshold=mean+0.8*std_dev\n",
    "        ind_mat=X_train_orig_lin[i,:,:,0]>threshold\n",
    "            \n",
    "    X_train_orig[i,:,:,0]=np.multiply(X_train_orig[i,:,:,0],ind_mat)\n",
    "    X_train_orig[i,:,:,1]=np.multiply(X_train_orig[i,:,:,1],ind_mat)\n",
    "            \n",
    "    #    if np.asarray(train_data[i]['inc_angle'])<30:\n",
    "    #        X_train_orig[i,:,:,0]=X_train_orig[i,:,:,0]*5\n",
    "    #    else:\n",
    "    #        X_train_orig[i,:,:,1]=X_train_orig[i,:,:,1]*5\n",
    "\n",
    "\n",
    "Y_train_orig=np.int_(Y_train_orig.reshape(1604,1))\n",
    "\n",
    "for i in range(len(test_data)):\n",
    "    X_test_orig[i,:,:,0]=np.asarray(test_data[i]['band_1']).reshape(IMG_SIZE,IMG_SIZE)\n",
    "    X_test_orig[i,:,:,1]=np.asarray(test_data[i]['band_2']).reshape(IMG_SIZE,IMG_SIZE)\n",

    "a=np.arange(X_train_orig.shape[0])\n",
    "\n",
    "np.random.shuffle(a)\n",
    "print(a.shape[0])\n",
    "train_ind=1400\n",
    "X_train=X_train_orig[a[0:train_ind]]\n",
    "Y_train=Y_train_orig[a[0:train_ind]]\n",
    "\n",
    "\n",
    "X_test=X_train_orig[a[train_ind:1604]]\n",
    "Y_test=Y_train_orig[a[train_ind:1604]]\n",
    "\n",
    "Y_train = convert_to_one_hot(Y_train, 2).T\n",
    "Y_test = convert_to_one_hot(Y_test, 2).T\n",
    "\n",
    "print(Y_train.shape,X_train.shape,X_test_orig.shape)"
   ]
  },
  {
   "cell_type": "markdown",
   "metadata": {},
   "source": [
    "Visualization of a sample image"
   ]
  },
  {
   "cell_type": "code",
   "execution_count": 21,
   "metadata": {},
   "outputs": [
    {
     "name": "stdout",
     "output_type": "stream",
     "text": [
      "30.4878\n",
      "[1]\n",
      "-0.4427015632 0.0182635708538\n",
      "[[-0. -0. -0. ..., -0. -0. -0.]\n",
      " [-0. -0. -0. ..., -0. -0. -0.]\n",
      " [-0. -0. -0. ..., -0. -0. -0.]\n",
      " ..., \n",
      " [-0. -0. -0. ..., -0. -0. -0.]\n",
      " [-0. -0. -0. ..., -0. -0. -0.]\n",
      " [-0. -0. -0. ..., -0. -0. -0.]]\n"
     ]
    },
    {
     "data": {
      "image/png": "[encoded data removed]",
      "text/plain": [
       "<matplotlib.figure.Figure at 0xe9f5d1d0>"
      ]
     },
     "metadata": {},
     "output_type": "display_data"
    }
   ],
   "source": [
    "id=530\n",
    "print(train_data[id]['inc_angle'])\n",
    "print(Y_train_orig[id])\n",
    "x1=X_train_orig[id,:,:,0]\n",
    "\n",
    "fig, axarr = plt.subplots(1, 2)\n",
    "print(np.mean(X_train_orig[id,:,:,0]),np.mean(X_train_orig_lin[id,:,:,0]))\n",
    "axarr[0].imshow(X_train_orig[id,:,:,0])\n",
    "axarr[1].imshow(X_train_orig[id,:,:,1])\n",
    "print(X_train_orig[id,:,:,0])"
   ]
  },
  {
   "cell_type": "markdown",
   "metadata": {},
   "source": [
    "Training the neural network"
   ]
  },
  {
   "cell_type": "code",
   "execution_count": 28,
   "metadata": {},
   "outputs": [
    {
     "name": "stdout",
     "output_type": "stream",
     "text": [
      "Training Step: 1099  | total loss: 0.35328 | time: 6.076s\n",
      "| Adam | epoch: 050 | loss: 0.35328 - acc: 0.8580 -- iter: 1344/1400\n",
      "Training Step: 1100  | total loss: 0.34434 | time: 7.361s\n",
      "| Adam | epoch: 050 | loss: 0.34434 - acc: 0.8613 | val_loss: 0.38006 - val_acc: 0.8284 -- iter: 1400/1400\n",
      "--\n"
     ]
    }
   ],
   "source": [
    "import tflearn\n",
    "from tflearn.layers.conv import conv_2d, max_pool_2d\n",
    "from tflearn.layers.core import input_data, dropout, fully_connected, flatten, one_hot_encoding\n",
    "from tflearn.layers.estimator import regression\n",
    "from tflearn.data_preprocessing import ImagePreprocessing\n",
    "from tflearn.data_augmentation import ImageAugmentation\n",
    "\n",
    "\n",
    "# Create extra synthetic training data by flipping, rotating and blurring the\n",
    "# images on our data set.\n",
    "img_aug = ImageAugmentation()\n",
    "img_aug.add_random_flip_leftright()\n",
    "img_aug.add_random_rotation(max_angle=25.)\n",
    "img_aug.add_random_blur(sigma_max=3.)\n",
    "\n",
    "tf.reset_default_graph()\n",
    "convnet = input_data(shape=[None, IMG_SIZE, IMG_SIZE, 2], data_augmentation=img_aug, name='input')\n",
    "\n",
    "convnet = conv_2d(convnet, 32, 3, activation='relu')\n",
    "convnet = max_pool_2d(convnet, 3, padding ='valid')\n",
    "\n",
    "convnet = conv_2d(convnet, 64, 3, activation='relu')\n",
    "convnet = max_pool_2d(convnet, 3)\n",
    "\n",
    "convnet = conv_2d(convnet, 128, 3, activation='relu')\n",
    "convnet = max_pool_2d(convnet, 5)\n",
    "\n",
    "convnet = conv_2d(convnet, 64, 3, activation='relu')\n",
    "convnet = max_pool_2d(convnet, 5)\n",
    "\n",
    "convnet = conv_2d(convnet, 32, 3, activation='relu')\n",
    "convnet = max_pool_2d(convnet, 5)\n",
    "\n",
    "convnet = flatten(convnet)\n",
    "convnet = fully_connected(convnet, 1024, activation='relu')\n",
    "convnet = dropout(convnet, 0.9)\n",
    "\n",
    "convnet = fully_connected(convnet, 2, activation='softmax')\n",
    "convnet = regression(convnet, optimizer='adam', learning_rate=1e-3, loss='categorical_crossentropy',name='targets')\n",
    "\n",
    "model = tflearn.DNN(convnet, tensorboard_dir='log')\n",
    "\n",
    "model.fit({'input': X_train}, {'targets': Y_train}, n_epoch=50, validation_set=({'input': X_test}, {'targets': Y_test}), \n",
    "    snapshot_step=500, show_metric=True)"
   ]
  },
  {
   "cell_type": "markdown",
   "metadata": {},
   "source": [
    "Model prediction"
   ]
  },
  {
   "cell_type": "code",
   "execution_count": null,
   "metadata": {},
   "outputs": [],
   "source": [
    "model_out = model.predict(X_test_orig)\n",
    "#prediction=np.empty([100,1])\n",
    "ind=3500\n",
    "prediction=model_out[:,1]\n",
    "\n",
    "print(model_out[ind],prediction[ind])"
   ]
  },
  {
   "cell_type": "code",
   "execution_count": null,
   "metadata": {},
   "outputs": [],
   "source": []
  }
 ],
 "metadata": {
  "kernelspec": {
   "display_name": "Python 3",
   "language": "python",
   "name": "python3"
  },
  "language_info": {
   "codemirror_mode": {
    "name": "ipython",
    "version": 3
   },
   "file_extension": ".py",
   "mimetype": "text/x-python",
   "name": "python",
   "nbconvert_exporter": "python",
   "pygments_lexer": "ipython3",
   "version": "3.7.1"
  }
 },
 "nbformat": 4,
 "nbformat_minor": 2
}
